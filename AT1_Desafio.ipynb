{
  "nbformat": 4,
  "nbformat_minor": 0,
  "metadata": {
    "colab": {
      "provenance": [],
      "authorship_tag": "ABX9TyM7XGwFm/T+12WQ9ZN64VQ0",
      "include_colab_link": true
    },
    "kernelspec": {
      "name": "python3",
      "display_name": "Python 3"
    },
    "language_info": {
      "name": "python"
    }
  },
  "cells": [
    {
      "cell_type": "markdown",
      "metadata": {
        "id": "view-in-github",
        "colab_type": "text"
      },
      "source": [
        "<a href=\"https://colab.research.google.com/github/lgc-s/python-ete/blob/main/Exerc%C3%ADcio_Python.ipynb\" target=\"_parent\"><img src=\"https://colab.research.google.com/assets/colab-badge.svg\" alt=\"Open In Colab\"/></a>"
      ]
    },
    {
      "cell_type": "code",
      "execution_count": 2,
      "metadata": {
        "colab": {
          "base_uri": "https://localhost:8080/"
        },
        "id": "JNmj9iLa8XkH",
        "outputId": "2235e604-9258-4138-a3ef-3a7fbaf4a097"
      },
      "outputs": [
        {
          "output_type": "stream",
          "name": "stdout",
          "text": [
            "Olá ETE Cícero Dias!\n"
          ]
        }
      ],
      "source": [
        "# 1. Faça um CÓDIGO que mostre a mensagem \"Olá ETE Cícero Dias!\" na tela.\n",
        "\n",
        "mensagem = \"Olá ETE Cícero Dias!\"\n",
        "print(mensagem)"
      ]
    },
    {
      "cell_type": "code",
      "source": [
        "# 2. Faça um CÓDIGO que peça um número e então mostre a mensagem O número informado foi [número].\n",
        "\n",
        "numero = input(\"Informe um número: \")\n",
        "print(\"O número informado foi\", numero)"
      ],
      "metadata": {
        "colab": {
          "base_uri": "https://localhost:8080/"
        },
        "id": "Djn7oiMs9NkK",
        "outputId": "3ba0d5e1-2f07-43f1-b5cf-6c8b19e10964"
      },
      "execution_count": 3,
      "outputs": [
        {
          "output_type": "stream",
          "name": "stdout",
          "text": [
            "Informe um número: 8\n",
            "O número informado foi 8\n"
          ]
        }
      ]
    },
    {
      "cell_type": "code",
      "source": [
        "# 3. Faça um CÓDIGO que peça dois números e imprima a soma.\n",
        "\n",
        "x = float(input(\"Digite o primeiro número: \"))\n",
        "y = float(input(\"Digite o segundo número: \"))\n",
        "\n",
        "soma = x + y\n",
        "\n",
        "print(\"A soma dos dois números é:\", soma)"
      ],
      "metadata": {
        "colab": {
          "base_uri": "https://localhost:8080/"
        },
        "id": "uDhPHKNu9Qmn",
        "outputId": "bb00a88c-a8f6-4051-ca5e-9fcc47118edf"
      },
      "execution_count": 4,
      "outputs": [
        {
          "output_type": "stream",
          "name": "stdout",
          "text": [
            "Digite o primeiro número: 1\n",
            "Digite o segundo número: 7\n",
            "A soma dos dois números é: 8.0\n"
          ]
        }
      ]
    },
    {
      "cell_type": "code",
      "source": [
        "# 4. Faça um CÓDIGO que peça as 4 notas bimestrais e mostre a média final.\n",
        "\n",
        "n1 = float(input(\"Digite a primeira nota: \"))\n",
        "n2 = float(input(\"Digite a segunda nota: \"))\n",
        "n3 = float(input(\"Digite a terceira nota: \"))\n",
        "n4 = float(input(\"Digite a quarta nota: \"))\n",
        "\n",
        "media = (n1 + n2 + n3 + n4) / 4\n",
        "\n",
        "print(\"A média final é:\", media)"
      ],
      "metadata": {
        "colab": {
          "base_uri": "https://localhost:8080/"
        },
        "id": "bSRZ_y6h9Sz9",
        "outputId": "22193a3a-7991-4a4b-c0a5-236af9cb16fd"
      },
      "execution_count": 5,
      "outputs": [
        {
          "output_type": "stream",
          "name": "stdout",
          "text": [
            "Digite a primeira nota: 8\n",
            "Digite a segunda nota: 9\n",
            "Digite a terceira nota: 7\n",
            "Digite a quarta nota: 9\n",
            "A média final é: 8.25\n"
          ]
        }
      ]
    },
    {
      "cell_type": "code",
      "source": [
        "# 5. Faça um CÓDIGO que converta metros para centímetros.\n",
        "\n",
        "m = float(input(\"Digite o valor em metros: \"))\n",
        "\n",
        "cm = m * 100\n",
        "\n",
        "print(\"O valor em centímetros é:\", cm)"
      ],
      "metadata": {
        "colab": {
          "base_uri": "https://localhost:8080/"
        },
        "id": "1tMoXNNH9dLY",
        "outputId": "c216a10b-dac7-4048-9465-90f817cbefe4"
      },
      "execution_count": 1,
      "outputs": [
        {
          "output_type": "stream",
          "name": "stdout",
          "text": [
            "Digite o valor em metros: 1.5\n",
            "O valor em centímetros é: 150.0\n"
          ]
        }
      ]
    },
    {
      "cell_type": "code",
      "source": [
        "# 6. Faça um CÓDIGO que peça o raio de um círculo, calcule e mostre sua área.\n",
        "\n",
        "import math\n",
        "\n",
        "raio = float(input(\"Digite o raio do círculo: \"))\n",
        "\n",
        "area = math.pi * raio**2\n",
        "\n",
        "print(\"A área do círculo é:\", area)"
      ],
      "metadata": {
        "colab": {
          "base_uri": "https://localhost:8080/"
        },
        "id": "Wmo26i9Q9w-q",
        "outputId": "369c65bb-ba5b-4e13-a442-6514f21fb914"
      },
      "execution_count": 6,
      "outputs": [
        {
          "output_type": "stream",
          "name": "stdout",
          "text": [
            "Digite o raio do círculo: 3\n",
            "A área do círculo é: 28.274333882308138\n"
          ]
        }
      ]
    },
    {
      "cell_type": "code",
      "source": [
        "# 7. Faça um CÓDIGO que calcule a área de um quadrado, em seguida mostre o dobro desta área para o usuário.\n",
        "\n",
        "side = float(input(\"Digite o valor do lado do quadrado: \"))\n",
        "\n",
        "area = side ** 2\n",
        "double_area = 2 * area\n",
        "\n",
        "print(\"A área do quadrado é:\", area)\n",
        "print(\"O dobro da área é:\", double_area)"
      ],
      "metadata": {
        "colab": {
          "base_uri": "https://localhost:8080/"
        },
        "id": "vkWQdJA_94OB",
        "outputId": "cc52df10-1fa5-4bed-9af7-78859901aefa"
      },
      "execution_count": 7,
      "outputs": [
        {
          "output_type": "stream",
          "name": "stdout",
          "text": [
            "Digite o valor do lado do quadrado: 3\n",
            "A área do quadrado é: 9.0\n",
            "O dobro da área é: 18.0\n"
          ]
        }
      ]
    },
    {
      "cell_type": "code",
      "source": [
        "# 8. Faça um CÓDIGO que pergunte quanto você ganha por hora e o número de horas trabalhadas no mês. Calcule e mostre o total do seu salário no referido mês.\n",
        "\n",
        "value_per_hour = float(input(\"Digite o valor do seu salário por hora: \"))\n",
        "work_time = float(input(\"Digite o número de horas trabalhadas no mês: \"))\n",
        "\n",
        "monthly_wage = value_per_hour * work_time\n",
        "\n",
        "print(\"Seu salário mensal é:\", monthly_wage)\n"
      ],
      "metadata": {
        "colab": {
          "base_uri": "https://localhost:8080/"
        },
        "id": "jCAywcby-b7W",
        "outputId": "441fe4a8-8bb4-4f2c-fa4a-e2fc1dc22d0d"
      },
      "execution_count": 8,
      "outputs": [
        {
          "output_type": "stream",
          "name": "stdout",
          "text": [
            "Digite o valor do seu salário por hora: 50\n",
            "Digite o número de horas trabalhadas no mês: 240\n",
            "Seu salário mensal é: 12000.0\n"
          ]
        }
      ]
    },
    {
      "cell_type": "code",
      "source": [
        "# 9. Faça um CÓDIGO que peça um valor e mostre na tela se o valor é positivo ou negativo.\n",
        "\n",
        "value = float(input(\"Digite um valor: \"))\n",
        "\n",
        "if value > 0:\n",
        "    print(\"O valor é positivo.\")\n",
        "elif value < 0:\n",
        "    print(\"O valor é negativo.\")\n",
        "else:\n",
        "    print(\"O valor é zero.\")"
      ],
      "metadata": {
        "colab": {
          "base_uri": "https://localhost:8080/"
        },
        "id": "nF9KG0nu-vrf",
        "outputId": "1fc10573-be19-447e-bf98-b955c7dc9809"
      },
      "execution_count": 10,
      "outputs": [
        {
          "output_type": "stream",
          "name": "stdout",
          "text": [
            "Digite um valor: -8\n",
            "O valor é negativo.\n"
          ]
        }
      ]
    },
    {
      "cell_type": "code",
      "source": [
        "# 10. Faça um CÓDIGO que verifique se uma letra digitada é \"F\" ou \"M\". Conforme a letra escrever: F - Feminino, M - Masculino, Sexo Inválido.\n",
        "\n",
        "letter = input(\"Digite uma letra: \")\n",
        "\n",
        "if letter == \"F\" or letter == \"f\":\n",
        "    print(\"F - Feminino\")\n",
        "elif letter == \"M\" or letter == \"m\":\n",
        "    print(\"M - Masculino\")\n",
        "else:\n",
        "    print(\"Sexo Inválido\")"
      ],
      "metadata": {
        "colab": {
          "base_uri": "https://localhost:8080/"
        },
        "id": "f9gaOm6t-8sg",
        "outputId": "458633a4-261e-4637-a214-11b5e53cfbfc"
      },
      "execution_count": 11,
      "outputs": [
        {
          "output_type": "stream",
          "name": "stdout",
          "text": [
            "Digite uma letra: M\n",
            "M - Masculino\n"
          ]
        }
      ]
    }
  ]
}
