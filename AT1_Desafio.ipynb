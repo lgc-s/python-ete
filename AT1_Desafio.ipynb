{
  "nbformat": 4,
  "nbformat_minor": 0,
  "metadata": {
    "colab": {
      "provenance": [],
      "authorship_tag": "ABX9TyOagCFJsgxYwSLgFN9SMi+/",
      "include_colab_link": true
    },
    "kernelspec": {
      "name": "python3",
      "display_name": "Python 3"
    },
    "language_info": {
      "name": "python"
    }
  },
  "cells": [
    {
      "cell_type": "markdown",
      "metadata": {
        "id": "view-in-github",
        "colab_type": "text"
      },
      "source": [
        "<a href=\"https://colab.research.google.com/github/lgc-s/python-ete/blob/main/AT1_Desafio.ipynb\" target=\"_parent\"><img src=\"https://colab.research.google.com/assets/colab-badge.svg\" alt=\"Open In Colab\"/></a>"
      ]
    },
    {
      "cell_type": "code",
      "execution_count": 1,
      "metadata": {
        "colab": {
          "base_uri": "https://localhost:8080/"
        },
        "id": "JNmj9iLa8XkH",
        "outputId": "09eb9831-6348-4378-8a92-9adfe968dba6"
      },
      "outputs": [
        {
          "output_type": "stream",
          "name": "stdout",
          "text": [
            "Olá ETE CÍCERO DIAS!\n"
          ]
        }
      ],
      "source": [
        "# 1. Faça um CÓDIGO que mostre a mensagem \"Olá ETE CÍCERO DIAS!\" na tela.\n",
        "\n",
        "mensagem = \"Olá ETE CÍCERO DIAS!\"\n",
        "print(mensagem)"
      ]
    },
    {
      "cell_type": "code",
      "source": [
        "# 2. Faça um CÓDIGO que peça um número e então mostre a mensagem O número informado foi [número].\n",
        "\n",
        "numero = input(\"Digite um número: \")\n",
        "print(\"O número digitado foi:\", numero)"
      ],
      "metadata": {
        "colab": {
          "base_uri": "https://localhost:8080/"
        },
        "id": "Djn7oiMs9NkK",
        "outputId": "12827ca7-bc1d-4c04-9be3-02aef472811a"
      },
      "execution_count": 4,
      "outputs": [
        {
          "output_type": "stream",
          "name": "stdout",
          "text": [
            "Digite um número: 8\n",
            "O número digitado foi: 8\n"
          ]
        }
      ]
    },
    {
      "cell_type": "code",
      "source": [
        "# 3. Faça um CÓDIGO que peça dois números e imprima a soma.\n",
        "\n",
        "x = float(input(\"Digite o primeiro número: \"))\n",
        "y = float(input(\"Digite o segundo número: \"))\n",
        "\n",
        "soma = x + y\n",
        "\n",
        "print(\"A soma dos dois números é:\", soma)"
      ],
      "metadata": {
        "colab": {
          "base_uri": "https://localhost:8080/"
        },
        "id": "uDhPHKNu9Qmn",
        "outputId": "076f0e8e-372e-4a50-ae5a-bb59d7552b23"
      },
      "execution_count": 7,
      "outputs": [
        {
          "output_type": "stream",
          "name": "stdout",
          "text": [
            "Digite o primeiro número: 2.5\n",
            "Digite o segundo número: 6.3\n",
            "A soma dos dois números é: 8.8\n"
          ]
        }
      ]
    },
    {
      "cell_type": "code",
      "source": [
        "# 4. Faça um CÓDIGO que peça as 4 notas bimestrais e mostre a média final.\n",
        "\n",
        "n1 = float(input(\"Digite a nota do primeiro bimestre: \"))\n",
        "n2 = float(input(\"Digite a nota do segundo bimestre: \"))\n",
        "n3 = float(input(\"Digite a nota do terceito bimestre: \"))\n",
        "n4 = float(input(\"Digite a nota do quarto bimestre: \"))\n",
        "\n",
        "media = (n1 + n2 + n3 + n4) / 4\n",
        "\n",
        "print(\"A média final é:\", media)"
      ],
      "metadata": {
        "colab": {
          "base_uri": "https://localhost:8080/"
        },
        "id": "bSRZ_y6h9Sz9",
        "outputId": "8a178630-8667-4208-dcd0-27dc73de79ee"
      },
      "execution_count": 15,
      "outputs": [
        {
          "output_type": "stream",
          "name": "stdout",
          "text": [
            "Digite a nota do primeiro bimestre: 9.5\n",
            "Digite a nota do segundo bimestre: 6\n",
            "Digite a nota do terceito bimestre: 8\n",
            "Digite a nota do quarto bimestre: 8.5\n",
            "A média final é: 8.0\n"
          ]
        }
      ]
    },
    {
      "cell_type": "code",
      "source": [
        "# 5. Faça um CÓDIGO que converta metros para centímetros.\n",
        "\n",
        "m = float(input(\"Digite um valor em metros: \"))\n",
        "\n",
        "cm = m * 100\n",
        "\n",
        "print(\"O valor em centímetros é:\", cm)"
      ],
      "metadata": {
        "colab": {
          "base_uri": "https://localhost:8080/"
        },
        "id": "1tMoXNNH9dLY",
        "outputId": "3e9042a0-bc00-49c4-fbdc-093214e1f490"
      },
      "execution_count": 16,
      "outputs": [
        {
          "output_type": "stream",
          "name": "stdout",
          "text": [
            "Digite um valor em metros: 1.78\n",
            "O valor em centímetros é: 178.0\n"
          ]
        }
      ]
    },
    {
      "cell_type": "code",
      "source": [
        "# 6. Faça um CÓDIGO que peça o raio de um círculo, calcule e mostre sua área.\n",
        "\n",
        "import math\n",
        "\n",
        "raio = float(input(\"Digite um valor para o raio do círculo: \"))\n",
        "\n",
        "area = math.pi * raio**2\n",
        "\n",
        "print(\"A área do círculo é:\", area)"
      ],
      "metadata": {
        "colab": {
          "base_uri": "https://localhost:8080/"
        },
        "id": "Wmo26i9Q9w-q",
        "outputId": "09d8b963-1fee-42d0-82a2-1b0168ee2be2"
      },
      "execution_count": 18,
      "outputs": [
        {
          "output_type": "stream",
          "name": "stdout",
          "text": [
            "Digite um valor para o raio do círculo: 8\n",
            "A área do círculo é: 201.06192982974676\n"
          ]
        }
      ]
    },
    {
      "cell_type": "code",
      "source": [
        "# 7. Faça um CÓDIGO que calcule a área de um quadrado, em seguida mostre o dobro desta área para o usuário.\n",
        "\n",
        "side = float(input(\"Digite um valor para o lado de um quadrado: \"))\n",
        "\n",
        "area = side ** 2\n",
        "double_area = 2 * area\n",
        "\n",
        "print(\"A área do quadrado é:\", area)\n",
        "print(\"O dobro da área do quadrado é:\", double_area)"
      ],
      "metadata": {
        "colab": {
          "base_uri": "https://localhost:8080/"
        },
        "id": "vkWQdJA_94OB",
        "outputId": "bd7c8fcf-ff9a-41f6-ab9a-8a4edeff399f"
      },
      "execution_count": 19,
      "outputs": [
        {
          "output_type": "stream",
          "name": "stdout",
          "text": [
            "Digite um valor para o lado de um quadrado: 8\n",
            "A área do quadrado é: 64.0\n",
            "O dobro da área do quadrado é: 128.0\n"
          ]
        }
      ]
    },
    {
      "cell_type": "code",
      "source": [
        "# 8. Faça um CÓDIGO que pergunte quanto você ganha por hora e o número de horas trabalhadas no mês. Calcule e mostre o total do seu salário no referido mês.\n",
        "\n",
        "value_per_hour = float(input(\"Digite um valor referente ao seu salário por hora: \"))\n",
        "work_time = float(input(\"Digite um valor para as horas trabalhadas em um mês: \"))\n",
        "\n",
        "monthly_wage = value_per_hour * work_time\n",
        "\n",
        "print(\"Seu salário mensal é:\", monthly_wage)\n"
      ],
      "metadata": {
        "colab": {
          "base_uri": "https://localhost:8080/"
        },
        "id": "jCAywcby-b7W",
        "outputId": "2d775593-a322-4614-c2fa-cfacac240fe1"
      },
      "execution_count": 21,
      "outputs": [
        {
          "output_type": "stream",
          "name": "stdout",
          "text": [
            "Digite um valor referente ao seu salário por hora: 50\n",
            "Digite um valor para as horas trabalhadas em um mês: 240\n",
            "Seu salário mensal é: 12000.0\n"
          ]
        }
      ]
    },
    {
      "cell_type": "code",
      "source": [
        "# 9. Faça um CÓDIGO que peça um valor e mostre na tela se o valor é positivo ou negativo.\n",
        "\n",
        "value = float(input(\"Digite um valor: \"))\n",
        "\n",
        "if value > 0:\n",
        "    print(\"Este valor é positivo.\")\n",
        "elif value < 0:\n",
        "    print(\"Este valor é negativo.\")\n",
        "else:\n",
        "    print(\"Este valor é zero.\")"
      ],
      "metadata": {
        "colab": {
          "base_uri": "https://localhost:8080/"
        },
        "id": "nF9KG0nu-vrf",
        "outputId": "09aab8e0-0e13-46ea-ae06-5f1d39bd7f3c"
      },
      "execution_count": 22,
      "outputs": [
        {
          "output_type": "stream",
          "name": "stdout",
          "text": [
            "Digite um valor: -8\n",
            "Este valor é negativo.\n"
          ]
        }
      ]
    },
    {
      "cell_type": "code",
      "source": [
        "# 10. Faça um CÓDIGO que verifique se uma letra digitada é \"F\" ou \"M\". Conforme a letra escrever: F - Feminino, M - Masculino, Sexo Inválido.\n",
        "\n",
        "letter = input(\"Digite uma letra conforme o seu sexo: \")\n",
        "\n",
        "if letter == \"F\" or letter == \"f\":\n",
        "    print(\"F - Feminino\")\n",
        "elif letter == \"M\" or letter == \"m\":\n",
        "    print(\"M - Masculino\")\n",
        "else:\n",
        "    print(\"Sexo Inválido\")"
      ],
      "metadata": {
        "colab": {
          "base_uri": "https://localhost:8080/"
        },
        "id": "f9gaOm6t-8sg",
        "outputId": "99ce2a01-0af6-435a-ee71-18cdb791cc7c"
      },
      "execution_count": 24,
      "outputs": [
        {
          "output_type": "stream",
          "name": "stdout",
          "text": [
            "Digite uma letra conforme o seu sexo: M\n",
            "M - Masculino\n"
          ]
        }
      ]
    }
  ]
}