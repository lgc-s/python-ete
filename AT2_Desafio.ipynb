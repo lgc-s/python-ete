{
  "nbformat": 4,
  "nbformat_minor": 0,
  "metadata": {
    "colab": {
      "provenance": [],
      "authorship_tag": "ABX9TyNmd02oEjhdAAcON/dxTf85",
      "include_colab_link": true
    },
    "kernelspec": {
      "name": "python3",
      "display_name": "Python 3"
    },
    "language_info": {
      "name": "python"
    }
  },
  "cells": [
    {
      "cell_type": "markdown",
      "metadata": {
        "id": "view-in-github",
        "colab_type": "text"
      },
      "source": [
        "<a href=\"https://colab.research.google.com/github/lgc-s/python-ete/blob/main/AT2_Desafio.ipynb\" target=\"_parent\"><img src=\"https://colab.research.google.com/assets/colab-badge.svg\" alt=\"Open In Colab\"/></a>"
      ]
    },
    {
      "cell_type": "code",
      "execution_count": 32,
      "metadata": {
        "id": "2vunFqiy0TqT",
        "colab": {
          "base_uri": "https://localhost:8080/"
        },
        "outputId": "3ebaf998-f8a6-43cd-bfb3-10510d35a6d6"
      },
      "outputs": [
        {
          "output_type": "stream",
          "name": "stdout",
          "text": [
            "Motorista: Luis Costa, Avaliação: 4.92 Estrelas, Desde: 2024, Número de Viagens: 129, Disponível?: Sim\n"
          ]
        }
      ],
      "source": [
        "class Status:\n",
        "    def __init__(self, motorista, avaliacao, cadastro, viagens, disponibilidade):\n",
        "        self.motorista = motorista\n",
        "        self.avaliacao = avaliacao\n",
        "        self.cadastro = cadastro\n",
        "        self.viagens = viagens\n",
        "        self.disponibilidade = disponibilidade\n",
        "\n",
        "    def status(self):\n",
        "        return f\"Motorista: {self.motorista}, Avaliação: {self.avaliacao} Estrelas, Desde: {self.cadastro}, Número de Viagens: {self.viagens}, Disponível?: {self.disponibilidade}\"\n",
        "\n",
        "state1 = Status(\"Luis Costa\", 4.92, 2024, 129, \"Sim\")\n",
        "state2 = Status(\"Paula Ribeiro\", 4.94, 2023, 637, \"Não\")\n",
        "\n",
        "print(state1.status())\n"
      ]
    },
    {
      "cell_type": "code",
      "source": [
        "class Avaliacao:\n",
        "    def __init__(self):\n",
        "        self.motorista = \"Indefinido\"\n",
        "        self.estrela = \"Indefinido\"\n",
        "        self.positivo = \"Indefinido\"\n",
        "        self.negativo = \"Indefinido\"\n",
        "        self.share = \"Indefinido\"\n",
        "\n",
        "    def set_avaliacao (self, n):\n",
        "        self.estrela = n\n",
        "    def set_motorista (self, n):\n",
        "        self.motorista = n\n",
        "    def set_positivo (self, n):\n",
        "        self.positivo = n\n",
        "    def set_negativo (self, n):\n",
        "        self.negativo = n\n",
        "    def set_share (self, n):\n",
        "        self.share = n\n",
        "\n",
        "    def avaliacao(self):\n",
        "        return f\"Motorista Avalidado: {self.motorista}, Avaliação: {self.set_estrela} Estrelas, Pontos Positivos: {self.set_positivo}, Pontos Negativos: {self.set_negativo}, Recomendaria?: {self.set_share}\"\n",
        "\n",
        "state1 = Avaliacao()\n",
        "state1.motorista = \"Luis Costa\"\n",
        "state1.set_estrela = input(\"Quantas estrelas você dá para o motorista (De 1 a 5)? \")\n",
        "state1.set_positivo = input(\"Quais foram os pontos positivos do serviço? \")\n",
        "state1.set_negativo = input(\"Quais foram os pontos negativos do serviço? \")\n",
        "state1.set_share = input(\"Você recomendaria o motorista para outras pessoas? \")\n",
        "\n",
        "print(state1.avaliacao())\n",
        "\n",
        "print(\"Obrigado pelo feedback!\")"
      ],
      "metadata": {
        "colab": {
          "base_uri": "https://localhost:8080/"
        },
        "id": "uFI7Lg4PD_yp",
        "outputId": "0f0ac867-ceea-46f6-e974-7f6ced0bf06d"
      },
      "execution_count": 54,
      "outputs": [
        {
          "output_type": "stream",
          "name": "stdout",
          "text": [
            "Quantas estrelas você dá para o motorista (De 1 a 5)? 5\n",
            "Quais foram os pontos positivos do serviço? S\n",
            "Quais foram os pontos negativos do serviço? N\n",
            "Você recomendaria o motorista para outras pessoas? Sim\n",
            "Motorista Avalidado: Luis Costa, Avaliação: 5 Estrelas, Pontos Positivos: S, Pontos Negativos: N, Recomendaria?: Sim\n",
            "Obrigado pelo feedback!\n"
          ]
        }
      ]
    },
    {
      "cell_type": "code",
      "source": [
        "class Descricao:\n",
        "    def __init__(self):\n",
        "        self.desc = \"Indefinido\"\n",
        "        self.tag = \"Indefinido\"\n",
        "\n",
        "    def set_desc (self, n):\n",
        "        self.desc = n\n",
        "    def set_tag (self, n):\n",
        "        self.tag = n\n",
        "\n",
        "    def descricao(self):\n",
        "        return f\"Descrição: {self.desc}, Tags: {self.tag}\"\n",
        "\n",
        "state1 = Descricao()\n",
        "state1.desc = input(\"Insira uma descrição te apresentando como motorista e diga tuas qualidades: \")\n",
        "state1.tag = input(\"Insire uma ou várias tags: \")\n",
        "\n",
        "print(state1.descricao())\n",
        "\n",
        "print(\"Você criou sua descrição geral de motorista!\")\n"
      ],
      "metadata": {
        "colab": {
          "base_uri": "https://localhost:8080/"
        },
        "id": "GVq5F-gJVGbE",
        "outputId": "6104e66e-f02a-4d56-b1e1-9e8ba1fe7ee3"
      },
      "execution_count": 58,
      "outputs": [
        {
          "output_type": "stream",
          "name": "stdout",
          "text": [
            "Insira uma descrição te apresentando como motorista e diga tuas qualidades: Sou um motorista qualificado que possuí familiaridade com pessoas deficientes, estou disponível para transporte na zona sul do recife\n",
            "Insire uma ou várias tags: masculino, zona sul de recife, chevrolet spin, boa viagem, recife,\n",
            "Descrição: Sou um motorista qualificado que possuí familiaridade com pessoas deficientes, estou disponível para transporte na zona sul do recife, Tags: masculino, zona sul de recife, chevrolet spin, boa viagem, recife,\n",
            "Você criou sua descrição geral de motorista!\n"
          ]
        }
      ]
    },
    {
      "cell_type": "code",
      "source": [
        "class Comunicacao:\n",
        "    def __init__(self):\n",
        "        self.num = \"Indefinido\"\n",
        "        self.desc = \"Indefinido\"\n",
        "\n",
        "    def set_desc (self, n):\n",
        "        self.num = n\n",
        "    def set_tag (self, n):\n",
        "        self.desc = n\n",
        "\n",
        "    def comunicacao(self):\n",
        "        return f\"Número de Telefone: {self.num}, Outros Contatos: {self.desc}\"\n",
        "\n",
        "state1 = Comunicacao()\n",
        "state1.num = input(\"Insira um número de telefone: \")\n",
        "state1.desc = input(\"Insira outros meios de comunicação (endereço, redes sociais): \")\n",
        "\n",
        "print(state1.comunicacao())\n",
        "\n",
        "print(\"Você adicionou os seus contatos!\")"
      ],
      "metadata": {
        "colab": {
          "base_uri": "https://localhost:8080/"
        },
        "id": "GTWAhIXVZa0m",
        "outputId": "8f2c328e-8f06-4c9b-cac5-c6f1c4e3ee1f"
      },
      "execution_count": 64,
      "outputs": [
        {
          "output_type": "stream",
          "name": "stdout",
          "text": [
            "Insira um número de telefone: (81) 99999-9999\n",
            "Insira outros meios de comunicação (endereço, redes sociais): @Motorista -Twitter\n",
            "Número de Telefone: (81) 99999-9999, Outros Contatos: @Motorista -Twitter\n",
            "Você adicionou os seus contatos!\n"
          ]
        }
      ]
    },
    {
      "cell_type": "code",
      "source": [
        "class Lugares:\n",
        "    def __init__(self):\n",
        "        self.lugares = \"Indefinido\"\n",
        "        self.interestado = \"Indefinido\"\n",
        "\n",
        "    def set_lugares (self, n):\n",
        "        self.lugares = n\n",
        "    def set_interestado (self, n):\n",
        "        self.interestado = n\n",
        "\n",
        "    def lugar(self):\n",
        "        return f\"Lugares Interessados: {self.lugares}, Viagem Interestadual?: {self.interestado}\"\n",
        "\n",
        "state1 = Lugares()\n",
        "state1.lugares = input(\"Digite os locais interessados para transporte: \")\n",
        "state1.interestado = input(\"Você pretende utilizar viagens Interestaduais?: \")\n",
        "\n",
        "print(state1.lugar())\n",
        "\n",
        "print(\"Lugares interessados adicionados no seu perfil!\")"
      ],
      "metadata": {
        "colab": {
          "base_uri": "https://localhost:8080/"
        },
        "id": "XCk6cWSjj8BY",
        "outputId": "7c75277b-4d91-4e69-ebbb-7ae0490c2758"
      },
      "execution_count": 67,
      "outputs": [
        {
          "output_type": "stream",
          "name": "stdout",
          "text": [
            "Digite os locais interessados para transporte: Hospital, Escola e Trabalho\n",
            "Você pretende utilizar viagens Interestaduais?: Não\n",
            "Lugares Interessados: Hospital, Escola e Trabalho, Viagem Interestadual?: Não\n",
            "Lugares interessados adicionados no seu perfil!\n"
          ]
        }
      ]
    }
  ]
}