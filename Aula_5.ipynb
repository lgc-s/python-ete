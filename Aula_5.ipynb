{
  "nbformat": 4,
  "nbformat_minor": 0,
  "metadata": {
    "colab": {
      "provenance": []
    },
    "kernelspec": {
      "name": "python3",
      "display_name": "Python 3"
    },
    "language_info": {
      "name": "python"
    }
  },
  "cells": [
    {
      "cell_type": "code",
      "execution_count": null,
      "metadata": {
        "id": "tWkGjKb51c7U"
      },
      "outputs": [],
      "source": [
        "# ETE Cícero Dias\n",
        "# DOCENTE: CLOVES ROCHA\n",
        "# ESTUDANTE: LUIS GUILHERME\n",
        "# Tipos primitivos de dados\n",
        "\n",
        "print(\"Meu arquivo impresso\")\n",
        "name = input(\"Qual o seu nome? \")\n",
        "print(\"Seu nome é:\", name)\n",
        "\n",
        "l = False\n",
        "print(l)\n",
        "print(type(l))"
      ]
    }
  ]
}