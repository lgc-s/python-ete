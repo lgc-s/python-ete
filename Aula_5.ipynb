{
  "nbformat": 4,
  "nbformat_minor": 0,
  "metadata": {
    "colab": {
      "provenance": [],
      "authorship_tag": "ABX9TyNbfBUHOg2QkPYOWnB6XhM+",
      "include_colab_link": true
    },
    "kernelspec": {
      "name": "python3",
      "display_name": "Python 3"
    },
    "language_info": {
      "name": "python"
    }
  },
  "cells": [
    {
      "cell_type": "markdown",
      "metadata": {
        "id": "view-in-github",
        "colab_type": "text"
      },
      "source": [
        "<a href=\"https://colab.research.google.com/github/lgc-s/python-ete/blob/main/Aula_5.ipynb\" target=\"_parent\"><img src=\"https://colab.research.google.com/assets/colab-badge.svg\" alt=\"Open In Colab\"/></a>"
      ]
    },
    {
      "cell_type": "code",
      "execution_count": 4,
      "metadata": {
        "id": "tWkGjKb51c7U",
        "colab": {
          "base_uri": "https://localhost:8080/"
        },
        "outputId": "aa66634f-c9b4-45f4-a337-240a72f64690"
      },
      "outputs": [
        {
          "output_type": "stream",
          "name": "stdout",
          "text": [
            "Meu arquivo impresso\n",
            "Qual o seu nome? oK\n",
            "Seu nome é: oK\n",
            "True\n",
            "<class 'bool'>\n"
          ]
        }
      ],
      "source": [
        "# ETE Cícero Dias\n",
        "# DOCENTE: CLOVES ROCHA\n",
        "# ESTUDANTE: LUIS GUILHERME\n",
        "# Tipos primitivos de dados\n",
        "\n",
        "print(\"Meu arquivo impresso\")\n",
        "name = input(\"Qual o seu nome? \")\n",
        "print(\"Seu nome é:\", name)\n",
        "\n",
        "ty_iD = True\n",
        "print(ty_iD)\n",
        "print(type(ty_iD))"
      ]
    }
  ]
}