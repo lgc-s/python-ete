{
  "nbformat": 4,
  "nbformat_minor": 0,
  "metadata": {
    "colab": {
      "provenance": [],
      "authorship_tag": "ABX9TyOLMpwyWNchkU/POUAjaN7u",
      "include_colab_link": true
    },
    "kernelspec": {
      "name": "python3",
      "display_name": "Python 3"
    },
    "language_info": {
      "name": "python"
    }
  },
  "cells": [
    {
      "cell_type": "markdown",
      "metadata": {
        "id": "view-in-github",
        "colab_type": "text"
      },
      "source": [
        "<a href=\"https://colab.research.google.com/github/lgc-s/python-ete/blob/main/Aula_5.ipynb\" target=\"_parent\"><img src=\"https://colab.research.google.com/assets/colab-badge.svg\" alt=\"Open In Colab\"/></a>"
      ]
    },
    {
      "cell_type": "code",
      "execution_count": 1,
      "metadata": {
        "id": "tWkGjKb51c7U",
        "colab": {
          "base_uri": "https://localhost:8080/"
        },
        "outputId": "eeff0c59-c0e2-4b22-ec31-57fb108231de"
      },
      "outputs": [
        {
          "output_type": "stream",
          "name": "stdout",
          "text": [
            "<class 'str'>\n"
          ]
        }
      ],
      "source": [
        "# ETE Cícero Dias\n",
        "# DOCENTE: CLOVES ROCHA\n",
        "# ESTUDANTE: LUIS GUILHERME\n",
        "# Tipos primitivos de dados\n",
        "\n",
        "l = 'Luis'\n",
        "print(type(l))"
      ]
    }
  ]
}