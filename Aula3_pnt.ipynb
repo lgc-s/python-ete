{
  "cells": [
    {
      "cell_type": "code",
      "execution_count": null,
      "metadata": {
        "colab": {
          "background_save": true
        },
        "id": "bnHuAHohgaSI"
      },
      "outputs": [],
      "source": [
        "# ETE Cícero Dias\n",
        "# DOCENTE: CLOVES ROCHA\n",
        "# ESTUDANTE: LUIS GUILHERME\n",
        "# Tipos primitivos de dados\n",
        "\n",
        "print(\"Meu arquivo impresso\")\n",
        "name = input(\"Qual o seu nome? \")\n",
        "print(\"Seu nome é:\", name)\n",
        "\n",
        "l = False\n",
        "print(l)\n",
        "print(type(l))"
      ]
    }
  ],
  "metadata": {
    "colab": {
      "provenance": [],
      "toc_visible": true,
      "authorship_tag": "ABX9TyM2cRxfTa77GF19Ix2k2Fce"
    },
    "kernelspec": {
      "display_name": "Python 3",
      "name": "python3"
    },
    "language_info": {
      "name": "python"
    }
  },
  "nbformat": 4,
  "nbformat_minor": 0
}