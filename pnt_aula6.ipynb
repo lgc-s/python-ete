{
  "nbformat": 4,
  "nbformat_minor": 0,
  "metadata": {
    "colab": {
      "provenance": [],
      "include_colab_link": true
    },
    "kernelspec": {
      "name": "python3",
      "display_name": "Python 3"
    },
    "language_info": {
      "name": "python"
    }
  },
  "cells": [
    {
      "cell_type": "markdown",
      "metadata": {
        "id": "view-in-github",
        "colab_type": "text"
      },
      "source": [
        "<a href=\"https://colab.research.google.com/github/lgc-s/python-ete/blob/main/pnt_aula6.ipynb\" target=\"_parent\"><img src=\"https://colab.research.google.com/assets/colab-badge.svg\" alt=\"Open In Colab\"/></a>"
      ]
    },
    {
      "cell_type": "code",
      "execution_count": null,
      "metadata": {
        "colab": {
          "base_uri": "https://localhost:8080/"
        },
        "id": "wRlbO3IJrswI",
        "outputId": "52b6934c-7a89-4e0d-8a7e-d9a8b440890b"
      },
      "outputs": [
        {
          "output_type": "stream",
          "name": "stdout",
          "text": [
            "<class 'float'>\n"
          ]
        }
      ],
      "source": [
        "# ETE CÍCERO DIAS\n",
        "# DOCENTE: CLOVES ROCHA\n",
        "# ESTUDANTE: ...\n",
        "# PNT - TIPOS PRIMITIVOS DE DADOS\n",
        "#print('Olá mundo!')\n",
        "\n",
        "c = 9.9\n",
        "print(type(c))\n"
      ]
    },
    {
      "cell_type": "code",
      "source": [
        "# 3. Operadores Aritméticos - Python\n",
        "# 10 + 1\n",
        "# 10 - 1\n",
        "# 4 * 5\n",
        "# 10 / 3\n",
        "# 10 // 3\n",
        "# 2 ** 3\n",
        "# 13 % 2\n",
        "\n",
        "#c = 2 ** 3\n",
        "#print(c)\n",
        "\n",
        "c = 10 // 3\n",
        "print(c)"
      ],
      "metadata": {
        "colab": {
          "base_uri": "https://localhost:8080/"
        },
        "id": "tEe81ubvtjVw",
        "outputId": "4b254ecc-6483-4254-88d1-bc90f255ab0a"
      },
      "execution_count": null,
      "outputs": [
        {
          "output_type": "stream",
          "name": "stdout",
          "text": [
            "3\n"
          ]
        }
      ]
    },
    {
      "cell_type": "code",
      "source": [
        "# 4. Operadores Relacionais Simples.\n",
        "\n",
        "# 7 > 5\n",
        "# 10 < 15\n",
        "\n",
        "notaA = 5\n",
        "notaB = 10\n",
        "notaA = notaB\n",
        "print(notaA)"
      ],
      "metadata": {
        "colab": {
          "base_uri": "https://localhost:8080/"
        },
        "id": "lOwKaYOcwGZo",
        "outputId": "45a59053-aaaa-4ad3-e47c-5f0c601026d2"
      },
      "execution_count": null,
      "outputs": [
        {
          "output_type": "stream",
          "name": "stdout",
          "text": [
            "10\n"
          ]
        }
      ]
    },
    {
      "cell_type": "code",
      "source": [
        "# 5. Operadores Relacionais Compostos.\n",
        "#na = 10\n",
        "#nb = 6\n",
        "#nc = 8\n",
        "#nd = 9\n",
        "#na >= nb\n",
        "#7 >= 6\n",
        "#print('Estudante aprovado!')\n",
        "#7 <= 10\n",
        "a = 10\n",
        "b = 9\n",
        "a != b"
      ],
      "metadata": {
        "colab": {
          "base_uri": "https://localhost:8080/"
        },
        "id": "J3AO2J2cxXmd",
        "outputId": "2cf7633d-88ab-405f-f6e0-65b5060f9f2f"
      },
      "execution_count": null,
      "outputs": [
        {
          "output_type": "execute_result",
          "data": {
            "text/plain": [
              "True"
            ]
          },
          "metadata": {},
          "execution_count": 37
        }
      ]
    },
    {
      "cell_type": "code",
      "source": [
        "nome = input('Digite seu nome: ')\n",
        "print(f'Seu nome é {nome}.')"
      ],
      "metadata": {
        "colab": {
          "base_uri": "https://localhost:8080/"
        },
        "id": "5dNKtB92zZHA",
        "outputId": "9d062028-3fd5-42d5-9600-1e9a29324c42"
      },
      "execution_count": null,
      "outputs": [
        {
          "output_type": "stream",
          "name": "stdout",
          "text": [
            "Digite seu nome: Cloves\n",
            "Seu nome é Cloves.\n"
          ]
        }
      ]
    },
    {
      "cell_type": "code",
      "source": [
        "idade = int(input('Digite sua idade: '))\n",
        "print(f'Você tem {idade} anos e','Meses')\n",
        "print(type(idade))"
      ],
      "metadata": {
        "colab": {
          "base_uri": "https://localhost:8080/"
        },
        "id": "H_V-J0MJ1BpY",
        "outputId": "759a9102-5d7d-45e8-d402-dcacd31c9edc"
      },
      "execution_count": null,
      "outputs": [
        {
          "output_type": "stream",
          "name": "stdout",
          "text": [
            "Digite sua idade: 5.5\n",
            "Você tem 5.5 anos e Meses\n",
            "<class 'float'>\n"
          ]
        }
      ]
    },
    {
      "cell_type": "code",
      "source": [
        "peso = float(input('Digite seu peso: '))\n",
        "print(f'Você pesa {peso}KGs')\n",
        "print(type(peso))"
      ],
      "metadata": {
        "id": "6voJAmTS15o7",
        "outputId": "560623aa-4c4b-48f6-f8ad-f9d31561990a",
        "colab": {
          "base_uri": "https://localhost:8080/"
        }
      },
      "execution_count": null,
      "outputs": [
        {
          "output_type": "stream",
          "name": "stdout",
          "text": [
            "Digite seu peso: 98\n",
            "Você pesa 98.0KGs\n",
            "<class 'float'>\n"
          ]
        }
      ]
    }
  ]
}